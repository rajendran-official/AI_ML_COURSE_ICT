{
  "nbformat": 4,
  "nbformat_minor": 0,
  "metadata": {
    "colab": {
      "provenance": [],
      "mount_file_id": "1CJaQVhIyKknR4o4PAn5L1YgjMDbFhJ9u",
      "authorship_tag": "ABX9TyPoi6N1NnyTXxQS3YLDqPlY",
      "include_colab_link": true
    },
    "kernelspec": {
      "name": "python3",
      "display_name": "Python 3"
    },
    "language_info": {
      "name": "python"
    }
  },
  "cells": [
    {
      "cell_type": "markdown",
      "metadata": {
        "id": "view-in-github",
        "colab_type": "text"
      },
      "source": [
        "<a href=\"https://colab.research.google.com/github/rajendran-official/AL_ML_COURSE_ICT/blob/Assignment-on-basic-python/Assignment_on_Basic_Python.ipynb\" target=\"_parent\"><img src=\"https://colab.research.google.com/assets/colab-badge.svg\" alt=\"Open In Colab\"/></a>"
      ]
    },
    {
      "cell_type": "markdown",
      "source": [
        "**Python Practice Problems – (Variables,\n",
        "Operators, Strings, Lists, Tuples)**"
      ],
      "metadata": {
        "id": "0kVJLsExrfcz"
      }
    },
    {
      "cell_type": "markdown",
      "source": [
        "1. A financial analyst stores monthly revenues in a list: [120000, 135000, 128000,\n",
        "142000, 150000]. Find the difference between the highest and lowest revenue without\n",
        "using loops."
      ],
      "metadata": {
        "id": "hrVJ3hU2rtQz"
      }
    },
    {
      "cell_type": "code",
      "source": [
        "l1=[120000, 135000, 128000, 142000, 150000]\n",
        "l1"
      ],
      "metadata": {
        "colab": {
          "base_uri": "https://localhost:8080/"
        },
        "id": "jKx2x_x6xae8",
        "outputId": "6cb124a6-0d48-43bd-bb95-fc631e4866fa"
      },
      "execution_count": 85,
      "outputs": [
        {
          "output_type": "execute_result",
          "data": {
            "text/plain": [
              "[120000, 135000, 128000, 142000, 150000]"
            ]
          },
          "metadata": {},
          "execution_count": 85
        }
      ]
    },
    {
      "cell_type": "code",
      "source": [
        "l2=max(l1)-min(l1)\n",
        "print(l2)"
      ],
      "metadata": {
        "colab": {
          "base_uri": "https://localhost:8080/"
        },
        "id": "9QlwRtIVxjzW",
        "outputId": "4d0629c9-affb-4ef6-e574-06b5a20dca06"
      },
      "execution_count": 86,
      "outputs": [
        {
          "output_type": "stream",
          "name": "stdout",
          "text": [
            "30000\n"
          ]
        }
      ]
    },
    {
      "cell_type": "markdown",
      "source": [
        "2. Given the tuple account = ('Asha', 'Savings', 56000, 'KCH'), unpack the values into\n",
        "separate variables and print a formatted string: 'Asha has ₹56000 in her Savings\n",
        "account (Branch: KCH)'."
      ],
      "metadata": {
        "id": "4IZdbGE3r3WH"
      }
    },
    {
      "cell_type": "code",
      "source": [
        "t1 = ('Asha', 'Savings', 56000, 'KCH')\n",
        "\n",
        "name, acc_type, balance, branch = t1\n",
        "t2=f\"{name} has ₹{balance} in her {acc_type} account (Branch : {branch})\"\n",
        "\n",
        "print(t2)"
      ],
      "metadata": {
        "colab": {
          "base_uri": "https://localhost:8080/"
        },
        "id": "m1puzeHbzLit",
        "outputId": "dca3afc8-a5a3-4593-a93c-192d2159d4ae"
      },
      "execution_count": 84,
      "outputs": [
        {
          "output_type": "stream",
          "name": "stdout",
          "text": [
            "Asha has ₹56000 in her Savings account (Branch : KCH)\n"
          ]
        }
      ]
    },
    {
      "cell_type": "markdown",
      "source": [
        "3. Convert the list of string numbers ['45000', '56000', '38000'] to integers and find\n",
        "their average\\ balance."
      ],
      "metadata": {
        "id": "fZs5qkdsr6dZ"
      }
    },
    {
      "cell_type": "code",
      "source": [
        "l1=['45000','56000','38000']\n",
        "l2=[int(i) for i in l1]\n",
        "l2"
      ],
      "metadata": {
        "colab": {
          "base_uri": "https://localhost:8080/"
        },
        "id": "YAUnidAu26I5",
        "outputId": "8d45752d-17c3-400d-f565-207f9c7ef1b4"
      },
      "execution_count": 82,
      "outputs": [
        {
          "output_type": "execute_result",
          "data": {
            "text/plain": [
              "[45000, 56000, 38000]"
            ]
          },
          "metadata": {},
          "execution_count": 82
        }
      ]
    },
    {
      "cell_type": "code",
      "source": [
        "l3=sum(l2)/len(l2)\n",
        "print(f\"The average balance is: {l3:.2f}\")"
      ],
      "metadata": {
        "colab": {
          "base_uri": "https://localhost:8080/"
        },
        "id": "ltbuPdXQ4kBp",
        "outputId": "3ef2250b-749a-4f07-b5e6-50fdab647820"
      },
      "execution_count": 83,
      "outputs": [
        {
          "output_type": "stream",
          "name": "stdout",
          "text": [
            "The average balance is: 46333.33\n"
          ]
        }
      ]
    },
    {
      "cell_type": "markdown",
      "source": [
        "4. Create a list with elements: ['Kochi', 'Chennai', 'Mumbai', 'Delhi', 'Pune']. Replace\n",
        "'Delhi' with 'Hyderabad' and print the new list in reverse order using slicing."
      ],
      "metadata": {
        "id": "UX3SkI6or_Jd"
      }
    },
    {
      "cell_type": "code",
      "source": [
        "L1=['Kochi','Chennai','Mumbai','Delhi','Pune']"
      ],
      "metadata": {
        "id": "v1hDBpV_srY3"
      },
      "execution_count": 72,
      "outputs": []
    },
    {
      "cell_type": "code",
      "source": [
        "print(L1)#new list"
      ],
      "metadata": {
        "colab": {
          "base_uri": "https://localhost:8080/"
        },
        "id": "QnGoRC5ttBVD",
        "outputId": "a1144e7b-b1e1-483d-9bd8-cfb7a5d7f4f4"
      },
      "execution_count": 65,
      "outputs": [
        {
          "output_type": "stream",
          "name": "stdout",
          "text": [
            "['Kochi', 'Chennai', 'Mumbai', 'Delhi', 'Pune']\n"
          ]
        }
      ]
    },
    {
      "cell_type": "code",
      "source": [
        "#Find the Delhi index number\n",
        "L1.index('Delhi')#3 is the index number"
      ],
      "metadata": {
        "colab": {
          "base_uri": "https://localhost:8080/"
        },
        "id": "r2NrIbx7tKrb",
        "outputId": "386ba01d-9a99-455f-e6d3-cac076b10a20"
      },
      "execution_count": 73,
      "outputs": [
        {
          "output_type": "execute_result",
          "data": {
            "text/plain": [
              "3"
            ]
          },
          "metadata": {},
          "execution_count": 73
        }
      ]
    },
    {
      "cell_type": "code",
      "source": [
        "#Replace 'Delhi' with 'Hyderabad'\n",
        "L1[3]='Hyderabad'"
      ],
      "metadata": {
        "id": "LNbm--mbtaC1"
      },
      "execution_count": 68,
      "outputs": []
    },
    {
      "cell_type": "code",
      "source": [
        "# updated list\n",
        "L1"
      ],
      "metadata": {
        "colab": {
          "base_uri": "https://localhost:8080/"
        },
        "id": "6VTbyz3ltkyU",
        "outputId": "171573f6-aeb8-4e1a-888c-eb2ca3b23fc0"
      },
      "execution_count": 69,
      "outputs": [
        {
          "output_type": "execute_result",
          "data": {
            "text/plain": [
              "['Kochi', 'Chennai', 'Mumbai', 'Hyderabad', 'Pune']"
            ]
          },
          "metadata": {},
          "execution_count": 69
        }
      ]
    },
    {
      "cell_type": "code",
      "source": [
        "# print the new list in reverse order using slicing\n",
        "L1[::-1]"
      ],
      "metadata": {
        "colab": {
          "base_uri": "https://localhost:8080/"
        },
        "id": "1mg08JLotrDl",
        "outputId": "9166b8c5-692d-4419-a76c-6eed500b5c7b"
      },
      "execution_count": 70,
      "outputs": [
        {
          "output_type": "execute_result",
          "data": {
            "text/plain": [
              "['Pune', 'Hyderabad', 'Mumbai', 'Chennai', 'Kochi']"
            ]
          },
          "metadata": {},
          "execution_count": 70
        }
      ]
    },
    {
      "cell_type": "markdown",
      "source": [
        "5. You have two tuples: interest_2024 = (7.1, 7.3, 7.2) and interest_2025 = (7.4, 7.5).\n",
        "Combine them and print the average of all interest rates."
      ],
      "metadata": {
        "id": "lROrcE00sCXX"
      }
    },
    {
      "cell_type": "code",
      "source": [
        "t1=(7.1,7.3,7.2)\n",
        "t2=(7.4,7.5)\n",
        "t3=sum(t1+t2)/len(t1+t2)\n",
        "print(f\"The average of all interest rates is: {t3:.2f}\")"
      ],
      "metadata": {
        "colab": {
          "base_uri": "https://localhost:8080/"
        },
        "id": "Sp17dCuu5zmx",
        "outputId": "ad11d835-b1fd-4de3-9a75-e78a0905c421"
      },
      "execution_count": null,
      "outputs": [
        {
          "output_type": "stream",
          "name": "stdout",
          "text": [
            "The average of all interest rates is: 7.30\n"
          ]
        }
      ]
    },
    {
      "cell_type": "markdown",
      "source": [
        "6. A string variable branch_id = 'TVM-FIN-2025'. Extract the branch code (first three\n",
        "letters) and the year (last four digits)."
      ],
      "metadata": {
        "id": "uTE0AUbRsE0m"
      }
    },
    {
      "cell_type": "code",
      "source": [
        "l1='TVM-FIN-2025'\n",
        "l1[:3]\n",
        "l1[-4:]\n",
        "print(f\"The branch code is: {l1[:3]} and the year is: {l1[-4:]}\")"
      ],
      "metadata": {
        "colab": {
          "base_uri": "https://localhost:8080/"
        },
        "id": "_dSzq-EQ6020",
        "outputId": "4e8d0462-7644-4885-def8-03e8683da3a8"
      },
      "execution_count": null,
      "outputs": [
        {
          "output_type": "stream",
          "name": "stdout",
          "text": [
            "The branch code is: TVM and the year is: 2025\n"
          ]
        }
      ]
    },
    {
      "cell_type": "markdown",
      "source": [
        "7. Create a list transactions = [10000, -2000, 5000, -1500, 3000]. Without using loops,\n",
        "find total deposits and withdrawals using list slicing or indexing only."
      ],
      "metadata": {
        "id": "XF3Vl06zsHaL"
      }
    },
    {
      "cell_type": "code",
      "source": [
        "transactions = [10000, -2000, 5000, -1500, 3000]\n",
        "\n",
        "total_deposits = sum(transactions[0:1]) + sum(transactions[2:3]) + sum(transactions[4:5])\n",
        "total_withdrawals = sum(transactions[1:2]) + sum(transactions[3:4])\n",
        "print(f\"Total Withdrawals: {abs(total_withdrawals)}\")"
      ],
      "metadata": {
        "colab": {
          "base_uri": "https://localhost:8080/"
        },
        "id": "liNpI7fS_Bgy",
        "outputId": "59ef2bb2-f181-48d7-e363-d14510b66724"
      },
      "execution_count": 59,
      "outputs": [
        {
          "output_type": "stream",
          "name": "stdout",
          "text": [
            "Total Withdrawals: 3500\n"
          ]
        }
      ]
    },
    {
      "cell_type": "markdown",
      "source": [
        "8. Given name = 'John Doe' and balance = 72500, print a message in title case stating\n",
        "'John Doe has a balance of ₹72500'. Ensure no type errors occur."
      ],
      "metadata": {
        "id": "Fg6hAY7DsJmv"
      }
    },
    {
      "cell_type": "code",
      "source": [
        "Name='John Doe'\n",
        "Balance=72500\n",
        "print(f\"{Name} has a balance of ₹{Balance}\")"
      ],
      "metadata": {
        "colab": {
          "base_uri": "https://localhost:8080/"
        },
        "id": "elAf_c8EsrBx",
        "outputId": "c91b1b0b-0e1a-4de8-e392-455b0ae40cc1"
      },
      "execution_count": 2,
      "outputs": [
        {
          "output_type": "stream",
          "name": "stdout",
          "text": [
            "John Doe has a balance of ₹72500\n"
          ]
        }
      ]
    },
    {
      "cell_type": "markdown",
      "source": [
        "9. A tuple customer = ('Kiran', 'Loan', 80000, 7.5). Calculate and print the total amount\n",
        "payable after 1 year if interest is simple interest based on rate 7.5%"
      ],
      "metadata": {
        "id": "rmBS6fVysL0N"
      }
    },
    {
      "cell_type": "code",
      "source": [
        "customer = ('Kiran', 'Loan', 80000, 7.5)\n",
        "principal = customer[2]\n",
        "interest_rate = customer[3]\n",
        "time = 1\n",
        "interest = principal * (interest_rate / 100) * time\n",
        "total_amount = principal + interest\n",
        "print(f\"The total amount payable after one year is: {total_amount:.2f}\")\n"
      ],
      "metadata": {
        "id": "kMAA1rdQs7qK",
        "outputId": "9b923551-3950-4bb9-ce37-5eaa47454819",
        "colab": {
          "base_uri": "https://localhost:8080/"
        }
      },
      "execution_count": 38,
      "outputs": [
        {
          "output_type": "stream",
          "name": "stdout",
          "text": [
            "The total amount payable after one year is: 86000.00\n"
          ]
        }
      ]
    },
    {
      "cell_type": "markdown",
      "source": [
        "10. Create two lists – branches = ['Kochi', 'Chennai', 'Mumbai'] and profits = [120000,\n",
        "95000, 134000]. Form a new list of tuples pairing each branch with its profit."
      ],
      "metadata": {
        "id": "WFIhvydYsOBt"
      }
    },
    {
      "cell_type": "code",
      "source": [
        "l1 = ['Kochi', 'Chennai', 'Mumbai']\n",
        "l2 = [120000, 95000, 134000]\n",
        "l3 = [(l1[0], l2[0]),(l1[1], l2[1]),(l1[2], l2[2])]\n",
        "print(l3)\n"
      ],
      "metadata": {
        "id": "OWTQ9UDUuktq",
        "outputId": "5fc69147-e1b6-420c-d2e1-b792e31678e3",
        "colab": {
          "base_uri": "https://localhost:8080/"
        }
      },
      "execution_count": 36,
      "outputs": [
        {
          "output_type": "stream",
          "name": "stdout",
          "text": [
            "[('Kochi', 120000), ('Chennai', 95000), ('Mumbai', 134000)]\n"
          ]
        }
      ]
    },
    {
      "cell_type": "markdown",
      "source": [
        "11. From a list salaries = [45000, 56000, 38000, 62000, 54000], extract the top three\n",
        "salaries using slicing only"
      ],
      "metadata": {
        "id": "z1rXs4XjsRDn"
      }
    },
    {
      "cell_type": "code",
      "source": [
        "l1=[45000,56000,38000,62000,54000]\n",
        "l1.sort(reverse=True)\n",
        "l1[:3]"
      ],
      "metadata": {
        "id": "zwDUIkTDvRmW",
        "outputId": "72afa444-fc7e-4557-9c2d-e21bd381e35a",
        "colab": {
          "base_uri": "https://localhost:8080/"
        }
      },
      "execution_count": 7,
      "outputs": [
        {
          "output_type": "execute_result",
          "data": {
            "text/plain": [
              "[62000, 56000, 54000]"
            ]
          },
          "metadata": {},
          "execution_count": 7
        }
      ]
    },
    {
      "cell_type": "markdown",
      "source": [
        "12. Given the tuple exchange_rates = (83.2, 83.1, 83.5, 83.0, 82.9), convert it into a list\n",
        "and change the third value to 84.0."
      ],
      "metadata": {
        "id": "i2yl0OzFsWRw"
      }
    },
    {
      "cell_type": "code",
      "source": [
        "t1=(83.2,83.1,83.5,83.0,82.9)\n",
        "l1=list(t1)\n",
        "l1[2]=84.0\n",
        "print(l1)"
      ],
      "metadata": {
        "id": "l1G3Y0RqwFwh",
        "outputId": "fd034971-3f1d-43da-b3bb-c4b01475f794",
        "colab": {
          "base_uri": "https://localhost:8080/"
        }
      },
      "execution_count": 35,
      "outputs": [
        {
          "output_type": "stream",
          "name": "stdout",
          "text": [
            "[83.2, 83.1, 84.0, 83.0, 82.9]\n"
          ]
        }
      ]
    },
    {
      "cell_type": "markdown",
      "source": [
        "13. Combine two lists customer_names = ['Asha', 'John', 'Meera'] and balances = [56000,\n",
        "72000, 65000] into a formatted string such as 'Asha:56000, John:72000, Meera:65000'\n",
        "without loops."
      ],
      "metadata": {
        "id": "bQembIoQsUsH"
      }
    },
    {
      "cell_type": "code",
      "source": [
        "l1=['Asha','John','Meera']\n",
        "l2=[56000,72000,65000]\n",
        "print(f\"{l1[0]}:{l2[0]}, {l1[1]}:{l2[1]}, {l1[2]}:{l2[2]}\")"
      ],
      "metadata": {
        "id": "Q7MXnQ0dw79x",
        "outputId": "134ea783-0718-40c4-f542-14a39f133deb",
        "colab": {
          "base_uri": "https://localhost:8080/"
        }
      },
      "execution_count": 34,
      "outputs": [
        {
          "output_type": "stream",
          "name": "stdout",
          "text": [
            "Asha:56000, John:72000, Meera:65000\n"
          ]
        }
      ]
    },
    {
      "cell_type": "markdown",
      "source": [
        "14. Given account_info = (Deepa, 'Savings', 98000), use string formatting to print a\n",
        "sentence 'Account Holder Deepz has ₹98000 in Savings account'."
      ],
      "metadata": {
        "id": "-r9YEggrscpw"
      }
    },
    {
      "cell_type": "code",
      "source": [
        "l1=('Deepa','Savings',98000)\n",
        "print(f\"Account Holder {l1[0]} has ₹{l1[2]} in {l1[1]} account\")"
      ],
      "metadata": {
        "id": "oJa4UTG3xOAg",
        "outputId": "0b45a70e-d700-4ae6-c8f9-90780fc67f2c",
        "colab": {
          "base_uri": "https://localhost:8080/"
        }
      },
      "execution_count": 32,
      "outputs": [
        {
          "output_type": "stream",
          "name": "stdout",
          "text": [
            "Account Holder Deepa has ₹98000 in Savings account\n"
          ]
        }
      ]
    },
    {
      "cell_type": "markdown",
      "source": [
        "15. Create a nested list storing branch names and their monthly collections: [['Kochi',\n",
        "[120000, 135000]], ['Chennai', [95000, 110000]]]. Print only the collection of Chennai\n",
        "branch without using loops."
      ],
      "metadata": {
        "id": "sXrMwKX-sfcn"
      }
    },
    {
      "cell_type": "code",
      "source": [
        "l1=['Kochi',[12000,135000]],['Chennai',[95000,110000]]\n",
        "l2=l1[1][1]\n",
        "print(f'The collection of chennai branch is {l2}')"
      ],
      "metadata": {
        "id": "1VP3SZG-x_Ez",
        "outputId": "dad74699-a0b0-4a1c-c413-d4410b39f3cc",
        "colab": {
          "base_uri": "https://localhost:8080/"
        }
      },
      "execution_count": 31,
      "outputs": [
        {
          "output_type": "stream",
          "name": "stdout",
          "text": [
            "The collection of chennai branch is [95000, 110000]\n"
          ]
        }
      ]
    }
  ]
}