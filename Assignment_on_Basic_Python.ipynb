{
  "nbformat": 4,
  "nbformat_minor": 0,
  "metadata": {
    "colab": {
      "provenance": [],
      "mount_file_id": "1CJaQVhIyKknR4o4PAn5L1YgjMDbFhJ9u",
      "authorship_tag": "ABX9TyNgB+cigMeWo3y6oYVeiY5X",
      "include_colab_link": true
    },
    "kernelspec": {
      "name": "python3",
      "display_name": "Python 3"
    },
    "language_info": {
      "name": "python"
    }
  },
  "cells": [
    {
      "cell_type": "markdown",
      "metadata": {
        "id": "view-in-github",
        "colab_type": "text"
      },
      "source": [
        "<a href=\"https://colab.research.google.com/github/rajendran-official/AL_ML_COURSE_ICT/blob/Assignment-on-basic-python/Assignment_on_Basic_Python.ipynb\" target=\"_parent\"><img src=\"https://colab.research.google.com/assets/colab-badge.svg\" alt=\"Open In Colab\"/></a>"
      ]
    },
    {
      "cell_type": "markdown",
      "source": [
        "**Python Practice Problems – (Variables,\n",
        "Operators, Strings, Lists, Tuples)**"
      ],
      "metadata": {
        "id": "0kVJLsExrfcz"
      }
    },
    {
      "cell_type": "markdown",
      "source": [
        "1. A financial analyst stores monthly revenues in a list: [120000, 135000, 128000,\n",
        "142000, 150000]. Find the difference between the highest and lowest revenue without\n",
        "using loops."
      ],
      "metadata": {
        "id": "hrVJ3hU2rtQz"
      }
    },
    {
      "cell_type": "code",
      "source": [
        "l1=[120000, 135000, 128000, 142000, 150000]\n",
        "l1"
      ],
      "metadata": {
        "colab": {
          "base_uri": "https://localhost:8080/"
        },
        "id": "jKx2x_x6xae8",
        "outputId": "11d7e1c0-3edc-473e-f7b1-d37b48851516"
      },
      "execution_count": null,
      "outputs": [
        {
          "output_type": "execute_result",
          "data": {
            "text/plain": [
              "[120000, 135000, 128000, 142000, 150000]"
            ]
          },
          "metadata": {},
          "execution_count": 69
        }
      ]
    },
    {
      "cell_type": "code",
      "source": [
        "l2=max(l1)-min(l1)\n",
        "print(l2)"
      ],
      "metadata": {
        "colab": {
          "base_uri": "https://localhost:8080/"
        },
        "id": "9QlwRtIVxjzW",
        "outputId": "0afad187-0360-4822-d86e-48159a0f289c"
      },
      "execution_count": null,
      "outputs": [
        {
          "output_type": "stream",
          "name": "stdout",
          "text": [
            "30000\n"
          ]
        }
      ]
    },
    {
      "cell_type": "markdown",
      "source": [
        "2. Given the tuple account = ('Asha', 'Savings', 56000, 'KCH'), unpack the values into\n",
        "separate variables and print a formatted string: 'Asha has ₹56000 in her Savings\n",
        "account (Branch: KCH)'."
      ],
      "metadata": {
        "id": "4IZdbGE3r3WH"
      }
    },
    {
      "cell_type": "code",
      "source": [
        "t1 = ('Asha', 'Savings', 56000, 'KCH')\n",
        "\n",
        "name, acc_type, balance, branch = t1\n",
        "t2=f\"{name} has ₹{balance} in her {acc_type} account (Branch : {branch})\"\n",
        "\n",
        "print(t2)"
      ],
      "metadata": {
        "colab": {
          "base_uri": "https://localhost:8080/"
        },
        "id": "m1puzeHbzLit",
        "outputId": "4c54551e-65a4-4c41-813b-3e7b22620dfa"
      },
      "execution_count": null,
      "outputs": [
        {
          "output_type": "stream",
          "name": "stdout",
          "text": [
            "Asha has ₹56000 in her Savings account (Branch : KCH)\n"
          ]
        }
      ]
    },
    {
      "cell_type": "markdown",
      "source": [
        "3. Convert the list of string numbers ['45000', '56000', '38000'] to integers and find\n",
        "their average balance."
      ],
      "metadata": {
        "id": "fZs5qkdsr6dZ"
      }
    },
    {
      "cell_type": "code",
      "source": [
        "l1=['45000','56000','38000']\n",
        "l2=[int(i) for i in l1]\n",
        "l2"
      ],
      "metadata": {
        "colab": {
          "base_uri": "https://localhost:8080/"
        },
        "id": "YAUnidAu26I5",
        "outputId": "cf3989e0-895a-4bfa-ca4a-30ecacca2cf2"
      },
      "execution_count": null,
      "outputs": [
        {
          "output_type": "execute_result",
          "data": {
            "text/plain": [
              "[45000, 56000, 38000]"
            ]
          },
          "metadata": {},
          "execution_count": 72
        }
      ]
    },
    {
      "cell_type": "code",
      "source": [
        "l3=sum(l2)/len(l2)\n",
        "print(f\"The average balance is: {l3:.2f}\")"
      ],
      "metadata": {
        "colab": {
          "base_uri": "https://localhost:8080/"
        },
        "id": "ltbuPdXQ4kBp",
        "outputId": "5c45f5ca-570b-45e0-9036-5eb5e5fce263"
      },
      "execution_count": null,
      "outputs": [
        {
          "output_type": "stream",
          "name": "stdout",
          "text": [
            "The average balance is: 46333.33\n"
          ]
        }
      ]
    },
    {
      "cell_type": "markdown",
      "source": [
        "4. Create a list with elements: ['Kochi', 'Chennai', 'Mumbai', 'Delhi', 'Pune']. Replace\n",
        "'Delhi' with 'Hyderabad' and print the new list in reverse order using slicing."
      ],
      "metadata": {
        "id": "UX3SkI6or_Jd"
      }
    },
    {
      "cell_type": "code",
      "source": [
        "L1=['Kochi','Chennai','Mumbai','Delhi','Pune']"
      ],
      "metadata": {
        "id": "v1hDBpV_srY3"
      },
      "execution_count": null,
      "outputs": []
    },
    {
      "cell_type": "code",
      "source": [
        "print(L1)#new list"
      ],
      "metadata": {
        "colab": {
          "base_uri": "https://localhost:8080/"
        },
        "id": "QnGoRC5ttBVD",
        "outputId": "1fc5c183-7ca2-495e-9196-7e83be6326ea"
      },
      "execution_count": null,
      "outputs": [
        {
          "output_type": "stream",
          "name": "stdout",
          "text": [
            "['Kochi', 'Chennai', 'Mumbai', 'Hyderabad', 'Pune']\n"
          ]
        }
      ]
    },
    {
      "cell_type": "code",
      "source": [
        "#Replace 'Delhi' with 'Hyderabad' Find Delhi index number\n",
        "L1.index('Delhi')#3 is the index number"
      ],
      "metadata": {
        "colab": {
          "base_uri": "https://localhost:8080/",
          "height": 159
        },
        "id": "r2NrIbx7tKrb",
        "outputId": "52bd1da3-74dc-4a47-9ad1-376f248d572d"
      },
      "execution_count": null,
      "outputs": [
        {
          "output_type": "error",
          "ename": "ValueError",
          "evalue": "'Delhi' is not in list",
          "traceback": [
            "\u001b[0;31m---------------------------------------------------------------------------\u001b[0m",
            "\u001b[0;31mValueError\u001b[0m                                Traceback (most recent call last)",
            "\u001b[0;32m/tmp/ipython-input-874904060.py\u001b[0m in \u001b[0;36m<cell line: 0>\u001b[0;34m()\u001b[0m\n\u001b[1;32m      1\u001b[0m \u001b[0;31m#Replace 'Delhi' with 'Hyderabad' Find Delhi index number\u001b[0m\u001b[0;34m\u001b[0m\u001b[0;34m\u001b[0m\u001b[0m\n\u001b[0;32m----> 2\u001b[0;31m \u001b[0mL1\u001b[0m\u001b[0;34m.\u001b[0m\u001b[0mindex\u001b[0m\u001b[0;34m(\u001b[0m\u001b[0;34m'Delhi'\u001b[0m\u001b[0;34m)\u001b[0m\u001b[0;31m#3 is the index number\u001b[0m\u001b[0;34m\u001b[0m\u001b[0;34m\u001b[0m\u001b[0m\n\u001b[0m",
            "\u001b[0;31mValueError\u001b[0m: 'Delhi' is not in list"
          ]
        }
      ]
    },
    {
      "cell_type": "code",
      "source": [
        "#Replace 'Delhi' with 'Hyderabad'\n",
        "L1[3]='Hyderabad'"
      ],
      "metadata": {
        "id": "LNbm--mbtaC1"
      },
      "execution_count": null,
      "outputs": []
    },
    {
      "cell_type": "code",
      "source": [
        "# updated list\n",
        "L1"
      ],
      "metadata": {
        "colab": {
          "base_uri": "https://localhost:8080/"
        },
        "id": "6VTbyz3ltkyU",
        "outputId": "7275c062-403d-4c0a-da9f-a1a41c297048"
      },
      "execution_count": null,
      "outputs": [
        {
          "output_type": "execute_result",
          "data": {
            "text/plain": [
              "['Kochi', 'Chennai', 'Mumbai', 'Hyderabad', 'Pune']"
            ]
          },
          "metadata": {},
          "execution_count": 5
        }
      ]
    },
    {
      "cell_type": "code",
      "source": [
        "# print the new list in reverse order using slicing\n",
        "L1[::-1]"
      ],
      "metadata": {
        "colab": {
          "base_uri": "https://localhost:8080/"
        },
        "id": "1mg08JLotrDl",
        "outputId": "8e08d832-0f0c-479b-971c-e8a9391a1340"
      },
      "execution_count": null,
      "outputs": [
        {
          "output_type": "execute_result",
          "data": {
            "text/plain": [
              "['Pune', 'Hyderabad', 'Mumbai', 'Chennai', 'Kochi']"
            ]
          },
          "metadata": {},
          "execution_count": 78
        }
      ]
    },
    {
      "cell_type": "markdown",
      "source": [
        "5. You have two tuples: interest_2024 = (7.1, 7.3, 7.2) and interest_2025 = (7.4, 7.5).\n",
        "Combine them and print the average of all interest rates."
      ],
      "metadata": {
        "id": "lROrcE00sCXX"
      }
    },
    {
      "cell_type": "code",
      "source": [
        "t1=(7.1,7.3,7.2)\n",
        "t2=(7.4,7.5)\n",
        "t3=sum(t1+t2)/len(t1+t2)\n",
        "print(f\"The average of all interest rates is: {t3:.2f}\")"
      ],
      "metadata": {
        "colab": {
          "base_uri": "https://localhost:8080/"
        },
        "id": "Sp17dCuu5zmx",
        "outputId": "ad11d835-b1fd-4de3-9a75-e78a0905c421"
      },
      "execution_count": null,
      "outputs": [
        {
          "output_type": "stream",
          "name": "stdout",
          "text": [
            "The average of all interest rates is: 7.30\n"
          ]
        }
      ]
    },
    {
      "cell_type": "markdown",
      "source": [
        "6. A string variable branch_id = 'TVM-FIN-2025'. Extract the branch code (first three\n",
        "letters) and the year (last four digits)."
      ],
      "metadata": {
        "id": "uTE0AUbRsE0m"
      }
    },
    {
      "cell_type": "code",
      "source": [
        "l1='TVM-FIN-2025'\n",
        "l1[:3]\n",
        "l1[-4:]\n",
        "print(f\"The branch code is: {l1[:3]} and the year is: {l1[-4:]}\")"
      ],
      "metadata": {
        "colab": {
          "base_uri": "https://localhost:8080/"
        },
        "id": "_dSzq-EQ6020",
        "outputId": "4e8d0462-7644-4885-def8-03e8683da3a8"
      },
      "execution_count": null,
      "outputs": [
        {
          "output_type": "stream",
          "name": "stdout",
          "text": [
            "The branch code is: TVM and the year is: 2025\n"
          ]
        }
      ]
    },
    {
      "cell_type": "markdown",
      "source": [
        "7. Create a list transactions = [10000, -2000, 5000, -1500, 3000]. Without using loops,\n",
        "find total deposits and withdrawals using list slicing or indexing only."
      ],
      "metadata": {
        "id": "XF3Vl06zsHaL"
      }
    },
    {
      "cell_type": "code",
      "source": [
        "# Define the list of transactions\n",
        "transactions = [10000, -2000, 5000, -1500, 3000]\n",
        "\n",
        "# Total deposits (positive values)\n",
        "total_deposits = sum(transactions[0:1]) + sum(transactions[2:3]) + sum(transactions[4:5])  # 10000 + 5000 + 3000\n",
        "\n",
        "# Total withdrawals (negative values)\n",
        "total_withdrawals = sum(transactions[1:2]) + sum(transactions[3:4])  # -2000 + -1500\n",
        "\n",
        "print(f\"Total Deposits: {total_deposits}\")        # Output: 18000\n",
        "print(f\"Total Withdrawals: {abs(total_withdrawals)}\")  # Output: 3500\n"
      ],
      "metadata": {
        "colab": {
          "base_uri": "https://localhost:8080/"
        },
        "id": "liNpI7fS_Bgy",
        "outputId": "93f63cd7-8d9f-4a28-ba1d-28c71a790a19"
      },
      "execution_count": null,
      "outputs": [
        {
          "output_type": "stream",
          "name": "stdout",
          "text": [
            "Total Deposits: 18000\n",
            "Total Withdrawals: 3500\n"
          ]
        }
      ]
    },
    {
      "cell_type": "code",
      "source": [
        "print(transactions[0:1])\n",
        "print(transactions[2:3])\n",
        "print(transactions[4:5])"
      ],
      "metadata": {
        "colab": {
          "base_uri": "https://localhost:8080/"
        },
        "id": "4Ga8wpei_q4h",
        "outputId": "3d9c5fdb-367d-479f-eb9c-a273e9f6499a"
      },
      "execution_count": null,
      "outputs": [
        {
          "output_type": "stream",
          "name": "stdout",
          "text": [
            "[10000]\n",
            "[5000]\n",
            "[3000]\n"
          ]
        }
      ]
    },
    {
      "cell_type": "code",
      "source": [
        "transactions = [10000, -2000, 5000, -1500, 3000]\n",
        "print(transactions[::-1])"
      ],
      "metadata": {
        "colab": {
          "base_uri": "https://localhost:8080/"
        },
        "id": "_bMm9yv2A7iG",
        "outputId": "60f925cc-5eec-4f66-cdf6-255571b773bf"
      },
      "execution_count": null,
      "outputs": [
        {
          "output_type": "stream",
          "name": "stdout",
          "text": [
            "[3000, -1500, 5000, -2000, 10000]\n"
          ]
        }
      ]
    },
    {
      "cell_type": "markdown",
      "source": [
        "8. Given name = 'John Doe' and balance = 72500, print a message in title case stating\n",
        "'John Doe has a balance of ₹72500'. Ensure no type errors occur."
      ],
      "metadata": {
        "id": "Fg6hAY7DsJmv"
      }
    },
    {
      "cell_type": "markdown",
      "source": [
        "9. A tuple customer = ('Kiran', 'Loan', 80000, 7.5). Calculate and print the total amount\n",
        "payable after 1 year if interest is simple interest based on rate 7.5%"
      ],
      "metadata": {
        "id": "rmBS6fVysL0N"
      }
    },
    {
      "cell_type": "markdown",
      "source": [
        "10. Create two lists – branches = ['Kochi', 'Chennai', 'Mumbai'] and profits = [120000,\n",
        "95000, 134000]. Form a new list of tuples pairing each branch with its profit."
      ],
      "metadata": {
        "id": "WFIhvydYsOBt"
      }
    },
    {
      "cell_type": "markdown",
      "source": [
        "11. From a list salaries = [45000, 56000, 38000, 62000, 54000], extract the top three\n",
        "salaries using slicing only"
      ],
      "metadata": {
        "id": "z1rXs4XjsRDn"
      }
    },
    {
      "cell_type": "markdown",
      "source": [
        "12. Given the tuple exchange_rates = (83.2, 83.1, 83.5, 83.0, 82.9), convert it into a list\n",
        "and change the third value to 84.0."
      ],
      "metadata": {
        "id": "i2yl0OzFsWRw"
      }
    },
    {
      "cell_type": "markdown",
      "source": [
        "13. Combine two lists customer_names = ['Asha', 'John', 'Meera'] and balances = [56000,\n",
        "72000, 65000] into a formatted string such as 'Asha:56000, John:72000, Meera:65000'\n",
        "without loops."
      ],
      "metadata": {
        "id": "bQembIoQsUsH"
      }
    },
    {
      "cell_type": "code",
      "source": [
        "l1=['Asha','John','Meera']\n",
        "l2=[56000,72000,65000]\n"
      ],
      "metadata": {
        "colab": {
          "base_uri": "https://localhost:8080/"
        },
        "id": "zHi-L0OmuJHV",
        "outputId": "99989021-b3fa-4a1f-c6d8-ca57c49f4c08"
      },
      "execution_count": null,
      "outputs": [
        {
          "output_type": "execute_result",
          "data": {
            "text/plain": [
              "['Asha', 'John', 'Meera', [56000, 72000, 65000]]"
            ]
          },
          "metadata": {},
          "execution_count": 8
        }
      ]
    },
    {
      "cell_type": "markdown",
      "source": [
        "14. Given account_info = (Deepa, 'Savings', 98000), use string formatting to print a\n",
        "sentence 'Account Holder Deepz has ₹98000 in Savings account'."
      ],
      "metadata": {
        "id": "-r9YEggrscpw"
      }
    },
    {
      "cell_type": "markdown",
      "source": [
        "15. Create a nested list storing branch names and their monthly collections: [['Kochi',\n",
        "[120000, 135000]], ['Chennai', [95000, 110000]]]. Print only the collection of Chennai\n",
        "branch without using loops."
      ],
      "metadata": {
        "id": "sXrMwKX-sfcn"
      }
    },
    {
      "cell_type": "code",
      "source": [],
      "metadata": {
        "id": "-AwqM_8ssk-f"
      },
      "execution_count": null,
      "outputs": []
    }
  ]
}