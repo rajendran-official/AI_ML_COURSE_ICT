{
  "nbformat": 4,
  "nbformat_minor": 0,
  "metadata": {
    "colab": {
      "provenance": [],
      "authorship_tag": "ABX9TyPn/Oo+jqJynqduJ592nlpE",
      "include_colab_link": true
    },
    "kernelspec": {
      "name": "python3",
      "display_name": "Python 3"
    },
    "language_info": {
      "name": "python"
    }
  },
  "cells": [
    {
      "cell_type": "markdown",
      "metadata": {
        "id": "view-in-github",
        "colab_type": "text"
      },
      "source": [
        "<a href=\"https://colab.research.google.com/github/rajendran-official/AL_ML_COURSE_ICT/blob/day-02-notes/Manappuram_Day02_Datastructures.ipynb\" target=\"_parent\"><img src=\"https://colab.research.google.com/assets/colab-badge.svg\" alt=\"Open In Colab\"/></a>"
      ]
    },
    {
      "cell_type": "code",
      "execution_count": null,
      "metadata": {
        "id": "T_R9_IH_mvwt"
      },
      "outputs": [],
      "source": []
    },
    {
      "cell_type": "markdown",
      "source": [
        "**LIST**\n",
        "\n",
        "*   Orderded\n",
        "*   Mutable(changeble)\n",
        "it allow dupliates\n",
        "\n",
        "\n",
        "\n"
      ],
      "metadata": {
        "id": "S81GMQfpnVUM"
      }
    },
    {
      "cell_type": "code",
      "source": [
        "l1=['apple','orange','grapes']\n",
        "l1[1]"
      ],
      "metadata": {
        "id": "cDqg1fjwn12i"
      },
      "execution_count": null,
      "outputs": []
    },
    {
      "cell_type": "code",
      "source": [
        "l2=[22,44,55,22,66,22,33,11]\n",
        "l2"
      ],
      "metadata": {
        "colab": {
          "base_uri": "https://localhost:8080/"
        },
        "id": "lovDc1lZpE6e",
        "outputId": "849d75b6-50fa-4446-ca2e-30a3940199a0"
      },
      "execution_count": null,
      "outputs": [
        {
          "output_type": "execute_result",
          "data": {
            "text/plain": [
              "[22, 44, 55, 22, 66, 22, 33, 11]"
            ]
          },
          "metadata": {},
          "execution_count": 9
        }
      ]
    },
    {
      "cell_type": "code",
      "source": [
        "type(l1)"
      ],
      "metadata": {
        "colab": {
          "base_uri": "https://localhost:8080/"
        },
        "id": "aV_A62QJpV0H",
        "outputId": "d305d89f-98a8-42dc-8651-358ca3feee98"
      },
      "execution_count": null,
      "outputs": [
        {
          "output_type": "execute_result",
          "data": {
            "text/plain": [
              "list"
            ]
          },
          "metadata": {},
          "execution_count": 10
        }
      ]
    },
    {
      "cell_type": "code",
      "source": [
        "l3=list((1,2,3,4))\n",
        "l3"
      ],
      "metadata": {
        "colab": {
          "base_uri": "https://localhost:8080/"
        },
        "id": "5IKse_HgpbcV",
        "outputId": "e422470f-41df-4fc0-9d5d-a81962b9ef72"
      },
      "execution_count": null,
      "outputs": [
        {
          "output_type": "execute_result",
          "data": {
            "text/plain": [
              "[1, 2, 3, 4]"
            ]
          },
          "metadata": {},
          "execution_count": 11
        }
      ]
    },
    {
      "cell_type": "code",
      "source": [
        "l2[2]='apple'\n",
        "l2[5]='grapes'\n",
        "l2"
      ],
      "metadata": {
        "colab": {
          "base_uri": "https://localhost:8080/"
        },
        "id": "qGiWAS0YpkRS",
        "outputId": "a683c326-bda8-4292-f290-f648ee7c20fa"
      },
      "execution_count": null,
      "outputs": [
        {
          "output_type": "execute_result",
          "data": {
            "text/plain": [
              "[22, 44, 'apple', 22, 66, 'grapes', 33, 11]"
            ]
          },
          "metadata": {},
          "execution_count": 13
        }
      ]
    },
    {
      "cell_type": "code",
      "source": [
        "l2[-1]"
      ],
      "metadata": {
        "colab": {
          "base_uri": "https://localhost:8080/"
        },
        "id": "avDROKIup8CE",
        "outputId": "28ff7f45-55c1-41ef-f335-2f1f5697c3af"
      },
      "execution_count": null,
      "outputs": [
        {
          "output_type": "execute_result",
          "data": {
            "text/plain": [
              "11"
            ]
          },
          "metadata": {},
          "execution_count": 14
        }
      ]
    },
    {
      "cell_type": "code",
      "source": [
        "l2.append(100)\n",
        "l2"
      ],
      "metadata": {
        "colab": {
          "base_uri": "https://localhost:8080/"
        },
        "id": "4croYSRBqeNg",
        "outputId": "5ab4e397-0746-44e5-af8b-36386db8d85d"
      },
      "execution_count": null,
      "outputs": [
        {
          "output_type": "execute_result",
          "data": {
            "text/plain": [
              "[22, 44, 'apple', 22, 66, 'grapes', 33, 11, 100, 100]"
            ]
          },
          "metadata": {},
          "execution_count": 16
        }
      ]
    },
    {
      "cell_type": "code",
      "source": [
        "l1.clear()\n",
        "l1"
      ],
      "metadata": {
        "colab": {
          "base_uri": "https://localhost:8080/"
        },
        "id": "Rez2ljEcqtac",
        "outputId": "d497f381-704d-40f9-f3fe-c60e5439bc2d"
      },
      "execution_count": null,
      "outputs": [
        {
          "output_type": "execute_result",
          "data": {
            "text/plain": [
              "[]"
            ]
          },
          "metadata": {},
          "execution_count": 18
        }
      ]
    },
    {
      "cell_type": "code",
      "source": [
        "l1=l2.copy()\n",
        "l1"
      ],
      "metadata": {
        "colab": {
          "base_uri": "https://localhost:8080/"
        },
        "id": "wjaUrzczrW_3",
        "outputId": "c3f85671-1a43-4f3c-b111-86bcc8334176"
      },
      "execution_count": null,
      "outputs": [
        {
          "output_type": "execute_result",
          "data": {
            "text/plain": [
              "[22, 44, 'apple', 22, 66, 'grapes', 33, 11, 100, 100]"
            ]
          },
          "metadata": {},
          "execution_count": 19
        }
      ]
    },
    {
      "cell_type": "code",
      "source": [
        "l2.count(22)"
      ],
      "metadata": {
        "colab": {
          "base_uri": "https://localhost:8080/"
        },
        "id": "ByWheJzErc94",
        "outputId": "06391093-acf8-44bf-988a-4165495bcfa9"
      },
      "execution_count": null,
      "outputs": [
        {
          "output_type": "execute_result",
          "data": {
            "text/plain": [
              "2"
            ]
          },
          "metadata": {},
          "execution_count": 23
        }
      ]
    },
    {
      "cell_type": "code",
      "source": [
        "l2.extend([23,'fig','orange'])\n",
        "l2"
      ],
      "metadata": {
        "colab": {
          "base_uri": "https://localhost:8080/"
        },
        "id": "T7paN_3Kr8_f",
        "outputId": "bd6cc3fa-4daa-47a6-920f-0ba322417e37"
      },
      "execution_count": null,
      "outputs": [
        {
          "output_type": "execute_result",
          "data": {
            "text/plain": [
              "[22, 44, 'apple', 22, 66, 'grapes', 33, 11, 100, 100, 23, 'fig', 'orange']"
            ]
          },
          "metadata": {},
          "execution_count": 25
        }
      ]
    },
    {
      "cell_type": "code",
      "source": [
        "l2.index('apple')"
      ],
      "metadata": {
        "colab": {
          "base_uri": "https://localhost:8080/"
        },
        "id": "2HpsnYU7s1CB",
        "outputId": "0d9528c2-4d96-426b-aaa8-394aaf19ea99"
      },
      "execution_count": null,
      "outputs": [
        {
          "output_type": "execute_result",
          "data": {
            "text/plain": [
              "2"
            ]
          },
          "metadata": {},
          "execution_count": 28
        }
      ]
    },
    {
      "cell_type": "code",
      "source": [
        "l2.insert(2,45)\n",
        "l2"
      ],
      "metadata": {
        "colab": {
          "base_uri": "https://localhost:8080/"
        },
        "id": "3P3y5S8wtJar",
        "outputId": "c7598a37-efc4-4ba0-978c-b20c73cf1e75"
      },
      "execution_count": null,
      "outputs": [
        {
          "output_type": "execute_result",
          "data": {
            "text/plain": [
              "[22,\n",
              " 44,\n",
              " 45,\n",
              " 45,\n",
              " 'apple',\n",
              " 22,\n",
              " 66,\n",
              " 'grapes',\n",
              " 33,\n",
              " 11,\n",
              " 100,\n",
              " 100,\n",
              " 23,\n",
              " 'fig',\n",
              " 'orange']"
            ]
          },
          "metadata": {},
          "execution_count": 30
        }
      ]
    },
    {
      "cell_type": "code",
      "source": [
        "l2.pop(2)"
      ],
      "metadata": {
        "colab": {
          "base_uri": "https://localhost:8080/"
        },
        "id": "v8qJckPlteG6",
        "outputId": "b6997aa2-374f-4dbc-e6ab-511e12561286"
      },
      "execution_count": null,
      "outputs": [
        {
          "output_type": "execute_result",
          "data": {
            "text/plain": [
              "45"
            ]
          },
          "metadata": {},
          "execution_count": 33
        }
      ]
    },
    {
      "cell_type": "code",
      "source": [
        "l2.remove(22)\n",
        "l2"
      ],
      "metadata": {
        "colab": {
          "base_uri": "https://localhost:8080/"
        },
        "id": "4yhhk-o5uJbM",
        "outputId": "924ea70b-d9f0-46ba-ff4e-0ed6c886a985"
      },
      "execution_count": null,
      "outputs": [
        {
          "output_type": "execute_result",
          "data": {
            "text/plain": [
              "[44, 'apple', 66, 'grapes', 33, 11, 100, 100, 23, 'fig', 'orange']"
            ]
          },
          "metadata": {},
          "execution_count": 36
        }
      ]
    },
    {
      "cell_type": "code",
      "source": [
        "l2.remove(100)\n",
        "l2"
      ],
      "metadata": {
        "colab": {
          "base_uri": "https://localhost:8080/"
        },
        "id": "_WZX_V94ucSj",
        "outputId": "713f2948-142d-4b34-e62d-2e4a18ed3411"
      },
      "execution_count": null,
      "outputs": [
        {
          "output_type": "execute_result",
          "data": {
            "text/plain": [
              "[44, 'apple', 66, 'grapes', 33, 11, 23, 'fig', 'orange']"
            ]
          },
          "metadata": {},
          "execution_count": 38
        }
      ]
    },
    {
      "cell_type": "code",
      "source": [
        "l2.reverse()\n",
        "l2"
      ],
      "metadata": {
        "colab": {
          "base_uri": "https://localhost:8080/"
        },
        "id": "A_2SkwAwuo2l",
        "outputId": "c0f78c3e-025b-4523-ec32-0aa614db72f7"
      },
      "execution_count": null,
      "outputs": [
        {
          "output_type": "execute_result",
          "data": {
            "text/plain": [
              "[44, 'apple', 66, 'grapes', 33, 11, 23, 'fig', 'orange']"
            ]
          },
          "metadata": {},
          "execution_count": 42
        }
      ]
    },
    {
      "cell_type": "code",
      "source": [
        "l3 =[22,44,11,2,3,5,22,11,10]\n",
        "l3"
      ],
      "metadata": {
        "colab": {
          "base_uri": "https://localhost:8080/"
        },
        "id": "qg9VblKbu0ni",
        "outputId": "1480ca67-da6a-4ee2-e278-6f333debc00d"
      },
      "execution_count": null,
      "outputs": [
        {
          "output_type": "execute_result",
          "data": {
            "text/plain": [
              "[22, 44, 11, 2, 3, 5, 22, 11, 10]"
            ]
          },
          "metadata": {},
          "execution_count": 44
        }
      ]
    },
    {
      "cell_type": "code",
      "source": [
        "l3.sort()\n",
        "l3\n"
      ],
      "metadata": {
        "colab": {
          "base_uri": "https://localhost:8080/"
        },
        "id": "auC4h04eu8FJ",
        "outputId": "c31fff00-b833-4dc7-f398-1cd02f998b16"
      },
      "execution_count": null,
      "outputs": [
        {
          "output_type": "execute_result",
          "data": {
            "text/plain": [
              "[2, 3, 5, 10, 22, 44]"
            ]
          },
          "metadata": {},
          "execution_count": 52
        }
      ]
    },
    {
      "cell_type": "code",
      "source": [
        "l3.insert(3,100)\n",
        "l3\n",
        "l3.insert(5,22)\n",
        "l3.sort()\n",
        "l3"
      ],
      "metadata": {
        "colab": {
          "base_uri": "https://localhost:8080/"
        },
        "id": "vip8m0GLvdNr",
        "outputId": "5c434b0b-c0c5-4f28-b365-99067177a1de"
      },
      "execution_count": null,
      "outputs": [
        {
          "output_type": "execute_result",
          "data": {
            "text/plain": [
              "[2, 3, 5, 10, 22, 22, 22, 22, 44, 100, 100, 100, 100, 100, 100]"
            ]
          },
          "metadata": {},
          "execution_count": 57
        }
      ]
    },
    {
      "cell_type": "markdown",
      "source": [
        "**tuple**\n",
        "Ordered\n",
        "Immutable\n",
        "Heterogeneous\n",
        "Indexed\n",
        "While tuples are immutable, you can perform operations like concatenation, repetition, and checking for element existence.\n",
        "\n",
        "\n"
      ],
      "metadata": {
        "id": "rAQc-oEVxE13"
      }
    },
    {
      "cell_type": "markdown",
      "source": [
        "\n",
        "Tuples are suitable for collections of items that should not change, such as:\n",
        "\n",
        "    Representing fixed data structures (e.g., coordinates, database records).\n",
        "    Returning multiple values from a function.\n",
        "    Using as keys in dictionaries (since they are immutable and hashable)."
      ],
      "metadata": {
        "id": "QFxkZVV-xyoV"
      }
    },
    {
      "cell_type": "code",
      "source": [
        "t1 = (1, \"hello\", 3.14, True)\n",
        "t1"
      ],
      "metadata": {
        "colab": {
          "base_uri": "https://localhost:8080/"
        },
        "id": "2r_LmFjnwxj_",
        "outputId": "14061c8f-b635-4549-f6af-a9f53abb6028"
      },
      "execution_count": null,
      "outputs": [
        {
          "output_type": "execute_result",
          "data": {
            "text/plain": [
              "(1, 'hello', 3.14, True)"
            ]
          },
          "metadata": {},
          "execution_count": 63
        }
      ]
    },
    {
      "cell_type": "code",
      "source": [
        "t2 = (10, 20, 30, 40, 50)\n",
        "t2"
      ],
      "metadata": {
        "colab": {
          "base_uri": "https://localhost:8080/"
        },
        "id": "21RiCZo9xbux",
        "outputId": "e6190106-3a74-42ab-8a2b-4aaea3f41cc4"
      },
      "execution_count": null,
      "outputs": [
        {
          "output_type": "execute_result",
          "data": {
            "text/plain": [
              "(10, 20, 30, 40, 50)"
            ]
          },
          "metadata": {},
          "execution_count": 65
        }
      ]
    },
    {
      "cell_type": "code",
      "source": [
        "t1[1]=3"
      ],
      "metadata": {
        "colab": {
          "base_uri": "https://localhost:8080/",
          "height": 141
        },
        "id": "-ATdJBqEx48I",
        "outputId": "1ca6bcc4-4a84-48f9-e3e7-c09e3c80539e"
      },
      "execution_count": null,
      "outputs": [
        {
          "output_type": "error",
          "ename": "TypeError",
          "evalue": "'tuple' object does not support item assignment",
          "traceback": [
            "\u001b[0;31m---------------------------------------------------------------------------\u001b[0m",
            "\u001b[0;31mTypeError\u001b[0m                                 Traceback (most recent call last)",
            "\u001b[0;32m/tmp/ipython-input-1763112029.py\u001b[0m in \u001b[0;36m<cell line: 0>\u001b[0;34m()\u001b[0m\n\u001b[0;32m----> 1\u001b[0;31m \u001b[0mt1\u001b[0m\u001b[0;34m[\u001b[0m\u001b[0;36m1\u001b[0m\u001b[0;34m]\u001b[0m\u001b[0;34m=\u001b[0m\u001b[0;36m3\u001b[0m\u001b[0;34m\u001b[0m\u001b[0;34m\u001b[0m\u001b[0m\n\u001b[0m",
            "\u001b[0;31mTypeError\u001b[0m: 'tuple' object does not support item assignment"
          ]
        }
      ]
    },
    {
      "cell_type": "markdown",
      "source": [
        "***Dictionary**\n",
        "\n",
        "Ordered\n",
        "mutable\n",
        "Hetrogeneous\n",
        "Keys must be unique,values can be duplicated\n",
        "\n",
        "\n"
      ],
      "metadata": {
        "id": "yIjFSLsqym55"
      }
    },
    {
      "cell_type": "code",
      "source": [
        "dict1={'Apple':34, 'Orange':23, 'Grapes':88}\n",
        "dict1"
      ],
      "metadata": {
        "colab": {
          "base_uri": "https://localhost:8080/"
        },
        "id": "pUipGuppy-y-",
        "outputId": "e674aee8-7922-421b-eef1-8fcc30b7021b"
      },
      "execution_count": null,
      "outputs": [
        {
          "output_type": "execute_result",
          "data": {
            "text/plain": [
              "{'Apple': 34, 'Orange': 23, 'Grapes': 88}"
            ]
          },
          "metadata": {},
          "execution_count": 71
        }
      ]
    },
    {
      "cell_type": "code",
      "source": [
        "dict1['Apple']"
      ],
      "metadata": {
        "colab": {
          "base_uri": "https://localhost:8080/"
        },
        "id": "VJ6Z3uWSztk0",
        "outputId": "7828a076-6413-43fe-948f-731f04d75794"
      },
      "execution_count": null,
      "outputs": [
        {
          "output_type": "execute_result",
          "data": {
            "text/plain": [
              "34"
            ]
          },
          "metadata": {},
          "execution_count": 72
        }
      ]
    },
    {
      "cell_type": "code",
      "source": [
        "dict1['Grapes']=100\n",
        "dict1"
      ],
      "metadata": {
        "colab": {
          "base_uri": "https://localhost:8080/"
        },
        "id": "faB5De9ozyIG",
        "outputId": "6baa133f-fe7e-4cd5-a73b-921e3c691f5f"
      },
      "execution_count": null,
      "outputs": [
        {
          "output_type": "execute_result",
          "data": {
            "text/plain": [
              "{'Apple': 34, 'Orange': 23, 'Grapes': 100}"
            ]
          },
          "metadata": {},
          "execution_count": 73
        }
      ]
    },
    {
      "cell_type": "code",
      "source": [
        "dict1['fig']=56\n",
        "dict1"
      ],
      "metadata": {
        "colab": {
          "base_uri": "https://localhost:8080/"
        },
        "id": "lmt3ruO20VZK",
        "outputId": "7c67ad4a-5d9a-4823-9980-a604dd1e9f81"
      },
      "execution_count": null,
      "outputs": [
        {
          "output_type": "execute_result",
          "data": {
            "text/plain": [
              "{'Apple': 34, 'Orange': 23, 'Grapes': 100, 'fig': 56}"
            ]
          },
          "metadata": {},
          "execution_count": 74
        }
      ]
    },
    {
      "cell_type": "code",
      "source": [
        "dict2={1:[34,55,45],2:[56,55,45]}\n",
        "dict2"
      ],
      "metadata": {
        "colab": {
          "base_uri": "https://localhost:8080/"
        },
        "id": "eOI59p280cWA",
        "outputId": "c42ee8a9-7052-4f48-c039-c01a3a74e736"
      },
      "execution_count": null,
      "outputs": [
        {
          "output_type": "execute_result",
          "data": {
            "text/plain": [
              "{1: [34, 55, 45], 2: [56, 55, 45]}"
            ]
          },
          "metadata": {},
          "execution_count": 75
        }
      ]
    },
    {
      "cell_type": "code",
      "source": [
        "dict3=dict1.fromkeys([1,2,3])"
      ],
      "metadata": {
        "id": "beBFrcUQ0tVB"
      },
      "execution_count": null,
      "outputs": []
    },
    {
      "cell_type": "code",
      "source": [
        "dict3"
      ],
      "metadata": {
        "colab": {
          "base_uri": "https://localhost:8080/"
        },
        "id": "T8ZOcgCc1BF4",
        "outputId": "c004692b-0d9e-4b1f-cf5d-0ba852632805"
      },
      "execution_count": null,
      "outputs": [
        {
          "output_type": "execute_result",
          "data": {
            "text/plain": [
              "{1: None, 2: None, 3: None}"
            ]
          },
          "metadata": {},
          "execution_count": 78
        }
      ]
    },
    {
      "cell_type": "code",
      "source": [
        "dict1.get('Apple')"
      ],
      "metadata": {
        "colab": {
          "base_uri": "https://localhost:8080/"
        },
        "id": "GGG2IrH81Dff",
        "outputId": "9aa419c9-8794-4ca2-9bab-7082360a653d"
      },
      "execution_count": null,
      "outputs": [
        {
          "output_type": "execute_result",
          "data": {
            "text/plain": [
              "34"
            ]
          },
          "metadata": {},
          "execution_count": 79
        }
      ]
    },
    {
      "cell_type": "code",
      "source": [
        "dict1.items()"
      ],
      "metadata": {
        "colab": {
          "base_uri": "https://localhost:8080/"
        },
        "id": "xf07R6Az10dh",
        "outputId": "04ce4ded-bcda-4305-f6cf-b73e85b1a7e9"
      },
      "execution_count": null,
      "outputs": [
        {
          "output_type": "execute_result",
          "data": {
            "text/plain": [
              "dict_items([('Apple', 34), ('Orange', 23), ('Grapes', 100), ('fig', 56)])"
            ]
          },
          "metadata": {},
          "execution_count": 80
        }
      ]
    },
    {
      "cell_type": "code",
      "source": [
        "dict1.keys()"
      ],
      "metadata": {
        "colab": {
          "base_uri": "https://localhost:8080/"
        },
        "id": "WRDn85D32BP7",
        "outputId": "37abdb61-5d25-4959-fe7c-dc936880f5e9"
      },
      "execution_count": null,
      "outputs": [
        {
          "output_type": "execute_result",
          "data": {
            "text/plain": [
              "dict_keys(['Apple', 'Orange', 'Grapes', 'fig'])"
            ]
          },
          "metadata": {},
          "execution_count": 81
        }
      ]
    },
    {
      "cell_type": "code",
      "source": [
        "dict1.pop('Apple')"
      ],
      "metadata": {
        "colab": {
          "base_uri": "https://localhost:8080/"
        },
        "id": "z7qLtnWx2Grc",
        "outputId": "902f2aa4-9c03-477a-90e4-af57cee87243"
      },
      "execution_count": null,
      "outputs": [
        {
          "output_type": "execute_result",
          "data": {
            "text/plain": [
              "34"
            ]
          },
          "metadata": {},
          "execution_count": 84
        }
      ]
    },
    {
      "cell_type": "code",
      "source": [
        "dict1"
      ],
      "metadata": {
        "colab": {
          "base_uri": "https://localhost:8080/"
        },
        "id": "x589mcU82Q7J",
        "outputId": "749bbf65-c4be-4e8c-9c46-8bef5d8bb925"
      },
      "execution_count": null,
      "outputs": [
        {
          "output_type": "execute_result",
          "data": {
            "text/plain": [
              "{'Orange': 23, 'Grapes': 100, 'fig': 56}"
            ]
          },
          "metadata": {},
          "execution_count": 85
        }
      ]
    },
    {
      "cell_type": "code",
      "source": [
        "dict1.popitem()"
      ],
      "metadata": {
        "colab": {
          "base_uri": "https://localhost:8080/"
        },
        "id": "uSDTyXh12hQK",
        "outputId": "bb4a6271-6632-4f8a-d7dc-53b7d4cec3a6"
      },
      "execution_count": null,
      "outputs": [
        {
          "output_type": "execute_result",
          "data": {
            "text/plain": [
              "('fig', 56)"
            ]
          },
          "metadata": {},
          "execution_count": 86
        }
      ]
    },
    {
      "cell_type": "code",
      "source": [
        "dict1"
      ],
      "metadata": {
        "colab": {
          "base_uri": "https://localhost:8080/"
        },
        "id": "J4IhZkQE24Jm",
        "outputId": "075fec64-c640-4896-8c2e-7576a5197cb0"
      },
      "execution_count": null,
      "outputs": [
        {
          "output_type": "execute_result",
          "data": {
            "text/plain": [
              "{'Orange': 23, 'Grapes': 100}"
            ]
          },
          "metadata": {},
          "execution_count": 87
        }
      ]
    },
    {
      "cell_type": "code",
      "source": [
        "dict1.update({'orange':10})\n",
        "dict1"
      ],
      "metadata": {
        "colab": {
          "base_uri": "https://localhost:8080/"
        },
        "id": "Pb1A3GD525lF",
        "outputId": "68c3d2b8-a65c-4527-b61d-9187e3a04dcf"
      },
      "execution_count": null,
      "outputs": [
        {
          "output_type": "execute_result",
          "data": {
            "text/plain": [
              "{'Orange': 23, 'Grapes': 100, 'orange': 10}"
            ]
          },
          "metadata": {},
          "execution_count": 94
        }
      ]
    },
    {
      "cell_type": "code",
      "source": [
        "dict1.values()"
      ],
      "metadata": {
        "colab": {
          "base_uri": "https://localhost:8080/"
        },
        "id": "Amhxidiy3WM4",
        "outputId": "51523f71-f3a3-46a6-bc9f-0251e03e1968"
      },
      "execution_count": null,
      "outputs": [
        {
          "output_type": "execute_result",
          "data": {
            "text/plain": [
              "dict_values([23, 100, 10])"
            ]
          },
          "metadata": {},
          "execution_count": 95
        }
      ]
    },
    {
      "cell_type": "markdown",
      "source": [
        "**SET**\n",
        "\n",
        "\n",
        "1.   Unordered\n",
        "2.   Mutable(it allow to change the values)\n",
        "3.   Hetrogeneous\n",
        "4.   Duplicates not allowed\n",
        "\n",
        "\n",
        "\n"
      ],
      "metadata": {
        "id": "NSFeUWxk3qCM"
      }
    },
    {
      "cell_type": "code",
      "source": [
        "s1={1,2,3,4,22,11,10,16,22,2,3,1,4,5,6,22}"
      ],
      "metadata": {
        "id": "c5oOW0BM4BAe"
      },
      "execution_count": null,
      "outputs": []
    },
    {
      "cell_type": "code",
      "source": [
        "s1"
      ],
      "metadata": {
        "colab": {
          "base_uri": "https://localhost:8080/"
        },
        "id": "DWh3Mn4J4Jf-",
        "outputId": "d8490a0f-1f80-40f2-9a9f-41fc503ab772"
      },
      "execution_count": null,
      "outputs": [
        {
          "output_type": "execute_result",
          "data": {
            "text/plain": [
              "{1, 2, 3, 4, 5, 6, 10, 11, 16, 22}"
            ]
          },
          "metadata": {},
          "execution_count": 97
        }
      ]
    },
    {
      "cell_type": "markdown",
      "source": [],
      "metadata": {
        "id": "CiQSHcZd4pWz"
      }
    },
    {
      "cell_type": "code",
      "source": [
        "l2=[1, 2, 3, 4, 5, 6, 10, 11, 16, 22]\n",
        "l2"
      ],
      "metadata": {
        "colab": {
          "base_uri": "https://localhost:8080/"
        },
        "id": "QcUBnnoz4To5",
        "outputId": "cefd13dc-8362-4f47-b02f-9ff3975fc332"
      },
      "execution_count": null,
      "outputs": [
        {
          "output_type": "execute_result",
          "data": {
            "text/plain": [
              "[1, 2, 3, 4, 5, 6, 10, 11, 16, 22]"
            ]
          },
          "metadata": {},
          "execution_count": 101
        }
      ]
    },
    {
      "cell_type": "code",
      "source": [
        "l1=set(l2)\n",
        "l1"
      ],
      "metadata": {
        "colab": {
          "base_uri": "https://localhost:8080/"
        },
        "id": "RK20wwaV4rWR",
        "outputId": "b0c9c405-6ace-42a8-c15e-411e6d488886"
      },
      "execution_count": null,
      "outputs": [
        {
          "output_type": "execute_result",
          "data": {
            "text/plain": [
              "{1, 2, 3, 4, 5, 6, 10, 11, 16, 22}"
            ]
          },
          "metadata": {},
          "execution_count": 103
        }
      ]
    },
    {
      "cell_type": "code",
      "source": [
        "dict3 = dict1.fromkeys([1,2,3,4,5],[11,22,33,44,55])\n",
        "dict3\n",
        "dict3= dict1.fromkeys(['Asha','John','Meera'],[56000,72000,65000])"
      ],
      "metadata": {
        "colab": {
          "base_uri": "https://localhost:8080/"
        },
        "id": "6LPn9yfv5_Rg",
        "outputId": "1ddb8edc-9861-47d7-e784-ffbf36371215"
      },
      "execution_count": null,
      "outputs": [
        {
          "output_type": "execute_result",
          "data": {
            "text/plain": [
              "{1: [11, 22, 33, 44, 55],\n",
              " 2: [11, 22, 33, 44, 55],\n",
              " 3: [11, 22, 33, 44, 55],\n",
              " 4: [11, 22, 33, 44, 55],\n",
              " 5: [11, 22, 33, 44, 55]}"
            ]
          },
          "metadata": {},
          "execution_count": 120
        }
      ]
    },
    {
      "cell_type": "code",
      "source": [
        "dict3= dict1.fromkeys(['Asha','John','Meera'],[56000,72000,65000])\n",
        "dict3"
      ],
      "metadata": {
        "colab": {
          "base_uri": "https://localhost:8080/"
        },
        "id": "pAs7BiPaDSRn",
        "outputId": "53f2ace2-e247-4fbe-cb07-ffcdce658155"
      },
      "execution_count": null,
      "outputs": [
        {
          "output_type": "execute_result",
          "data": {
            "text/plain": [
              "{'Asha': [56000, 72000, 65000],\n",
              " 'John': [56000, 72000, 65000],\n",
              " 'Meera': [56000, 72000, 65000]}"
            ]
          },
          "metadata": {},
          "execution_count": 142
        }
      ]
    },
    {
      "cell_type": "code",
      "source": [
        "\n",
        "\n",
        "l1 = ['Asha', 'John', 'Meera']\n",
        "l2 = [56000, 72000, 65000]\n",
        "\n",
        "dict1 = dict1.fromkeys(l1)\n",
        "dict1[l1[0]] = l2[0]\n",
        "dict1[l1[1]] = l2[1]\n",
        "dict1[l1[2]] = l2[2]\n",
        "\n",
        "dict4 = f\"{l1[0]}:{dict1[l1[0]]}, {l1[1]}:{dict1[l1[1]]}, {l1[2]}:{dict1[l1[2]]}\"\n",
        "print(dict4)"
      ],
      "metadata": {
        "colab": {
          "base_uri": "https://localhost:8080/"
        },
        "id": "9klO61kt7ZA6",
        "outputId": "60d630eb-c489-41e0-9bd4-0e35a1713029"
      },
      "execution_count": null,
      "outputs": [
        {
          "output_type": "stream",
          "name": "stdout",
          "text": [
            "Asha:56000, John:72000, Meera:65000\n"
          ]
        }
      ]
    },
    {
      "cell_type": "code",
      "source": [
        "#Account Holder Deepz has ₹98000 in Savings account'\n",
        "account_info = ('Deepa', 'Savings', 98000)\n",
        "print(f\"Account Holder Deepz has ₹{account_info[2]} in {account_info[1]} account\")\n"
      ],
      "metadata": {
        "colab": {
          "base_uri": "https://localhost:8080/"
        },
        "id": "G8D-4zVD_IA9",
        "outputId": "2aa6f965-91d9-410c-b7e6-b4fa77d8fc35"
      },
      "execution_count": null,
      "outputs": [
        {
          "output_type": "stream",
          "name": "stdout",
          "text": [
            "Account Holder Deepz has ₹98000 in Savings account\n"
          ]
        }
      ]
    },
    {
      "cell_type": "code",
      "source": [
        "branches = [['Kochi', [120000, 135000]], ['Chennai', [95000, 110000]]]\n",
        "chennai_collection = branches[1][1]\n",
        "print(chennai_collection)"
      ],
      "metadata": {
        "colab": {
          "base_uri": "https://localhost:8080/"
        },
        "id": "KNSxCb7XAm6h",
        "outputId": "e0381258-6aa0-4bb3-fab7-c7e65eb0001c"
      },
      "execution_count": null,
      "outputs": [
        {
          "output_type": "stream",
          "name": "stdout",
          "text": [
            "[95000, 110000]\n"
          ]
        }
      ]
    },
    {
      "cell_type": "code",
      "source": [
        "'''Create a list with elements: ['Kochi', 'Chennai', 'Mumbai', 'Delhi', 'Pune']. Replace\n",
        "'Delhi' with 'Hyderabad' and print the new list in reverse order using slicing'''\n",
        "\n",
        "l1=['Kochi','Chennai','Mumbai','Delhi','Pune']\n",
        "l1\n"
      ],
      "metadata": {
        "colab": {
          "base_uri": "https://localhost:8080/"
        },
        "id": "8EFJBmc7oyUq",
        "outputId": "3e4de978-c2a0-4f84-9e08-3052eeacbd48"
      },
      "execution_count": null,
      "outputs": [
        {
          "output_type": "execute_result",
          "data": {
            "text/plain": [
              "['Kochi', 'Chennai', 'Mumbai', 'Delhi', 'Pune']"
            ]
          },
          "metadata": {},
          "execution_count": 10
        }
      ]
    },
    {
      "cell_type": "code",
      "source": [
        "l1.index('Delhi')# find the index of Delhi\n"
      ],
      "metadata": {
        "colab": {
          "base_uri": "https://localhost:8080/"
        },
        "id": "d14UwsRxqaEG",
        "outputId": "6b2fbfca-2f3c-4f3b-aa07-d307361dc138"
      },
      "execution_count": null,
      "outputs": [
        {
          "output_type": "execute_result",
          "data": {
            "text/plain": [
              "3"
            ]
          },
          "metadata": {},
          "execution_count": 11
        }
      ]
    },
    {
      "cell_type": "code",
      "source": [
        "l1[3]='Hyderabad'\n",
        "l1"
      ],
      "metadata": {
        "colab": {
          "base_uri": "https://localhost:8080/"
        },
        "id": "6_GrkPfTqdMg",
        "outputId": "6ef83712-3ac9-4527-9f59-bf281364c005"
      },
      "execution_count": null,
      "outputs": [
        {
          "output_type": "execute_result",
          "data": {
            "text/plain": [
              "['Kochi', 'Chennai', 'Mumbai', 'Hyderabad', 'Pune']"
            ]
          },
          "metadata": {},
          "execution_count": 13
        }
      ]
    },
    {
      "cell_type": "code",
      "source": [
        "print(l1[::-1])"
      ],
      "metadata": {
        "colab": {
          "base_uri": "https://localhost:8080/"
        },
        "id": "cS7NoI03qg-F",
        "outputId": "51b92ee6-34b6-4507-c308-74b2c1de0a01"
      },
      "execution_count": null,
      "outputs": [
        {
          "output_type": "stream",
          "name": "stdout",
          "text": [
            "['Pune', 'Hyderabad', 'Mumbai', 'Chennai', 'Kochi']\n"
          ]
        }
      ]
    }
  ]
}