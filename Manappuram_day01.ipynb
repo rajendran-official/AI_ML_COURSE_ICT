{
  "nbformat": 4,
  "nbformat_minor": 0,
  "metadata": {
    "colab": {
      "provenance": [],
      "toc_visible": true,
      "authorship_tag": "ABX9TyOlZBgIKTCELSTI7qkOrHtt",
      "include_colab_link": true
    },
    "kernelspec": {
      "name": "python3",
      "display_name": "Python 3"
    },
    "language_info": {
      "name": "python"
    }
  },
  "cells": [
    {
      "cell_type": "markdown",
      "metadata": {
        "id": "view-in-github",
        "colab_type": "text"
      },
      "source": [
        "<a href=\"https://colab.research.google.com/github/rajendran-official/AL_ML_COURSE_ICT/blob/main/Manappuram_day01.ipynb\" target=\"_parent\"><img src=\"https://colab.research.google.com/assets/colab-badge.svg\" alt=\"Open In Colab\"/></a>"
      ]
    },
    {
      "cell_type": "code",
      "source": [],
      "metadata": {
        "id": "ngAR0DjYoEcM"
      },
      "execution_count": null,
      "outputs": []
    },
    {
      "cell_type": "markdown",
      "source": [
        "My first notebook"
      ],
      "metadata": {
        "id": "NGmKmIrRMT7X"
      }
    },
    {
      "cell_type": "code",
      "source": [
        "#My first progran\n",
        "print (\"Hello Rajendran !\")\n",
        "print (233)\n",
        "print(4.9)\n",
        "print (\"Welcome to\", end ='')\n",
        "print(\"the world of python \", end = '!')\n",
        "print (\"\\\"welcome to the world of python\\\"\")\n",
        "age =13\n",
        "print (age)\n",
        "print(type(age))\n",
        "mark = 4.5\n",
        "print(mark)\n",
        "print(type(mark))\n",
        "fred =200\n",
        "john= fred\n",
        "print(john)\n",
        "Item_name= \"computer\" #A string\n",
        "Item_qty = 10\n",
        "Item_value = 1000.23\n",
        "print(Item_name)\n",
        "print(Item_qty)\n",
        "print(Item_value)"
      ],
      "metadata": {
        "colab": {
          "base_uri": "https://localhost:8080/"
        },
        "id": "Wytb3UL1Mavk",
        "outputId": "1187ea5f-2af6-4b3f-9b05-490a85d471e4"
      },
      "execution_count": 2,
      "outputs": [
        {
          "output_type": "stream",
          "name": "stdout",
          "text": [
            "Hello Rajendran !\n",
            "233\n",
            "4.9\n",
            "Welcome tothe world of python !\"welcome to the world of python\"\n",
            "13\n",
            "<class 'int'>\n",
            "4.5\n",
            "<class 'float'>\n",
            "200\n",
            "computer\n",
            "10\n",
            "1000.23\n"
          ]
        }
      ]
    },
    {
      "cell_type": "code",
      "source": [
        "x,y,z=10,44.67, 6+8j\n",
        "print(x,type(x))\n",
        "print(y,type(y))\n",
        "print(z,type(z))"
      ],
      "metadata": {
        "colab": {
          "base_uri": "https://localhost:8080/"
        },
        "id": "Jc_EEw-0ROy6",
        "outputId": "22b11978-408b-46e5-f657-af7cc9eb3ca3"
      },
      "execution_count": null,
      "outputs": [
        {
          "output_type": "stream",
          "name": "stdout",
          "text": [
            "10 <class 'int'>\n",
            "44.67 <class 'float'>\n",
            "(6+8j) <class 'complex'>\n"
          ]
        }
      ]
    },
    {
      "cell_type": "code",
      "source": [
        "greeting =\"Hi Programmers.\"\n",
        "print(greeting + \"I am learning Python!\")"
      ],
      "metadata": {
        "colab": {
          "base_uri": "https://localhost:8080/"
        },
        "id": "9sdkCUqQTsSD",
        "outputId": "e0b18170-e958-4981-aedd-13c3dd424e2d"
      },
      "execution_count": null,
      "outputs": [
        {
          "output_type": "stream",
          "name": "stdout",
          "text": [
            "Hi Programmers.I am learning Python!\n"
          ]
        }
      ]
    },
    {
      "cell_type": "code",
      "source": [
        "greeting=\"Hello world\"\n",
        "print(greeting)\n",
        "print(\"\\n\")\n",
        "print(\"Python\"*3)\n",
        "print(\"Python\\n\"*3)"
      ],
      "metadata": {
        "colab": {
          "base_uri": "https://localhost:8080/"
        },
        "id": "g8acRDNATtaD",
        "outputId": "10233fc3-8694-444a-b5a2-03dfc629f513"
      },
      "execution_count": null,
      "outputs": [
        {
          "output_type": "stream",
          "name": "stdout",
          "text": [
            "Hello world\n",
            "\n",
            "\n",
            "PythonPythonPython\n",
            "Python\n",
            "Python\n",
            "Python\n",
            "\n"
          ]
        }
      ]
    },
    {
      "cell_type": "code",
      "source": [
        "forename=input(\"What is your forename? \")\n",
        "\n",
        "surname=input(\"What is your surname? \")\n",
        "print(\"Hello\", forename, surname)"
      ],
      "metadata": {
        "colab": {
          "base_uri": "https://localhost:8080/"
        },
        "id": "8IpZGtS8VEsM",
        "outputId": "ed4dd0e1-b3f7-42ec-d4dd-4bb5f45e342d"
      },
      "execution_count": null,
      "outputs": [
        {
          "output_type": "stream",
          "name": "stdout",
          "text": [
            "What is your forename? ra\n",
            "What is your surname? j\n",
            "Hello ra j\n"
          ]
        }
      ]
    },
    {
      "cell_type": "code",
      "source": [
        "s=\"python\"\n",
        "print([-len(s)])\n"
      ],
      "metadata": {
        "id": "BpMQeCFCWeBm"
      },
      "execution_count": null,
      "outputs": []
    },
    {
      "cell_type": "code",
      "source": [
        "num1 = input(\"Enter a number\")\n",
        "print(num1,type(num1))"
      ],
      "metadata": {
        "id": "fs87naORSf67"
      },
      "execution_count": null,
      "outputs": []
    },
    {
      "cell_type": "code",
      "source": [
        "num1 = float(input(\"Enter a number\"))\n",
        "print(num1,type(num1))"
      ],
      "metadata": {
        "id": "lnSEHDvlTGIE"
      },
      "execution_count": null,
      "outputs": []
    },
    {
      "cell_type": "code",
      "source": [
        "s= \"python\"\n",
        "print(s[0:4])\n",
        "print(s[1:4])\n",
        "print(s[:4])\n",
        "print(s[4:])\n",
        "print(s[0:6:2])\n",
        "print(s[::])\n",
        "print(s[::-1])\n",
        "print(s[-5:-2])"
      ],
      "metadata": {
        "id": "U3CQwfaVWvUA"
      },
      "execution_count": null,
      "outputs": []
    },
    {
      "cell_type": "code",
      "source": [
        "s.islower()\n",
        "s.capitalize()\n",
        "s.upper()\n"
      ],
      "metadata": {
        "id": "nvattjxQY4cL"
      },
      "execution_count": null,
      "outputs": []
    },
    {
      "cell_type": "code",
      "source": [],
      "metadata": {
        "id": "ELz5Kz7AbBST"
      },
      "execution_count": null,
      "outputs": []
    },
    {
      "cell_type": "code",
      "source": [
        "s.islower()"
      ],
      "metadata": {
        "id": "TWPk7H03ZLoe"
      },
      "execution_count": null,
      "outputs": []
    },
    {
      "cell_type": "code",
      "source": [
        "num1=20\n",
        "num2=3\n",
        "print(num1+num2)\n",
        "print(num1-num2)\n",
        "print(num1/num2)\n",
        "print(num1%num2)\n",
        "print(num1//num2)\n",
        "print(num1**num2)\n",
        "\n"
      ],
      "metadata": {
        "id": "pd2KCtQubE0N"
      },
      "execution_count": null,
      "outputs": []
    },
    {
      "cell_type": "code",
      "source": [
        "3>5"
      ],
      "metadata": {
        "id": "cv3_6HF1cNze"
      },
      "execution_count": null,
      "outputs": []
    },
    {
      "cell_type": "code",
      "source": [
        "3>=3"
      ],
      "metadata": {
        "id": "R_fFSmKycRPW"
      },
      "execution_count": null,
      "outputs": []
    },
    {
      "cell_type": "code",
      "source": [
        "3<5\n"
      ],
      "metadata": {
        "id": "vg5QEGw_cZ2P"
      },
      "execution_count": null,
      "outputs": []
    },
    {
      "cell_type": "code",
      "source": [
        "(3>5) and (3==3)"
      ],
      "metadata": {
        "id": "Wd6ppDYschJf"
      },
      "execution_count": null,
      "outputs": []
    },
    {
      "cell_type": "code",
      "source": [
        "(3>5) or (3==3)"
      ],
      "metadata": {
        "id": "6bBo7DvBcpP0"
      },
      "execution_count": null,
      "outputs": []
    },
    {
      "cell_type": "code",
      "source": [
        "not (3>5)"
      ],
      "metadata": {
        "id": "8vFlulgCcsjL"
      },
      "execution_count": null,
      "outputs": []
    },
    {
      "cell_type": "code",
      "source": [
        "a=10\n",
        "a+=5  #a=a+5\n",
        "print(a)"
      ],
      "metadata": {
        "id": "ZBBEItkmdM1R"
      },
      "execution_count": null,
      "outputs": []
    },
    {
      "cell_type": "code",
      "source": [
        "# Program to find area of rectangle\n",
        "length =10\n",
        "breadth =20\n",
        "area = length * breadth\n",
        "print(f\"the area of the rectange is {area}\")"
      ],
      "metadata": {
        "id": "QJBfNpl3d68o",
        "outputId": "f765ed28-1b2d-436d-8278-2127d1b34c62",
        "colab": {
          "base_uri": "https://localhost:8080/"
        }
      },
      "execution_count": null,
      "outputs": [
        {
          "output_type": "stream",
          "name": "stdout",
          "text": [
            "the area of the rectange is 200\n"
          ]
        }
      ]
    },
    {
      "cell_type": "code",
      "source": [
        "# Read radius of the circle from user and print area of circle\n",
        "import math\n",
        "\n",
        "# Read radius from user\n",
        "radius = float(input(\"Enter the radius of the circle: \"))\n",
        "# Calculate area\n",
        "area = math.pi * (radius ** 2)\n",
        "\n",
        "# Print the area\n",
        "print(f\"The area of the circle is {area:.2f}.\")\n"
      ],
      "metadata": {
        "id": "mVmD4mbzeubX"
      },
      "execution_count": null,
      "outputs": []
    },
    {
      "cell_type": "code",
      "source": [
        "radius = float(input(\"Enter radius\"))\n",
        "print(f\"Area of the circle is {3.14*radius**2}\")"
      ],
      "metadata": {
        "id": "u7DSEZEHfXRU"
      },
      "execution_count": null,
      "outputs": []
    },
    {
      "cell_type": "code",
      "source": [
        "from math import pi\n",
        "radius = float(input(\"Enter radius\"))\n",
        "print(f\"Area of circle is {pi*radius**2}\")"
      ],
      "metadata": {
        "id": "02WnR-anfuC-"
      },
      "execution_count": null,
      "outputs": []
    },
    {
      "cell_type": "code",
      "source": [
        "import math\n",
        "print(math.pi)"
      ],
      "metadata": {
        "id": "K_CdaqFdf_cO"
      },
      "execution_count": null,
      "outputs": []
    },
    {
      "cell_type": "code",
      "source": [
        "celsius = int(input(\"Enter temperature in Celsius: \"))\n",
        "fahrenheit = (celsius * 9/5) + 32\n",
        "print(f\"The temperature in Fahrenheit is {fahrenheit}.\")"
      ],
      "metadata": {
        "id": "bqUpQ8W1gYbU"
      },
      "execution_count": null,
      "outputs": []
    },
    {
      "cell_type": "code",
      "source": [
        "#hell0123\n",
        "input_string = \"hello123\"\n",
        "result = input_string[0].upper() + input_string[1:-3] + \" \" + input_string[-3:]\n",
        "\n",
        "# Print the result\n",
        "print(result)\n"
      ],
      "metadata": {
        "id": "8rje0U2bhm55"
      },
      "execution_count": null,
      "outputs": []
    },
    {
      "cell_type": "code",
      "source": [
        "#account_number = \"1234567890123456\"\n",
        "#output: xxxx-xxxx-xxxx-3456\n",
        "account_number = \"1234567890123456\"\n",
        "output = \"xxxx-xxxx-xxxx-\" + account_number[-4:]\n",
        "print(output)\n"
      ],
      "metadata": {
        "id": "Pl8P0VYRikmL"
      },
      "execution_count": null,
      "outputs": []
    }
  ]
}